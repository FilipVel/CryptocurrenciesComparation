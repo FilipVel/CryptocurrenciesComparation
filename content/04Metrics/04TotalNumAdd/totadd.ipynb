{
 "cells": [
  {
   "cell_type": "code",
   "execution_count": 1,
   "metadata": {
    "tags": [
     "hide_input"
    ]
   },
   "outputs": [
    {
     "data": {
      "text/html": [
       "        <script type=\"text/javascript\">\n",
       "        window.PlotlyConfig = {MathJaxConfig: 'local'};\n",
       "        if (window.MathJax) {MathJax.Hub.Config({SVG: {font: \"STIX-Web\"}});}\n",
       "        if (typeof require !== 'undefined') {\n",
       "        require.undef(\"plotly\");\n",
       "        requirejs.config({\n",
       "            paths: {\n",
       "                'plotly': ['https://cdn.plot.ly/plotly-latest.min']\n",
       "            }\n",
       "        });\n",
       "        require(['plotly'], function(Plotly) {\n",
       "            window._Plotly = Plotly;\n",
       "        });\n",
       "        }\n",
       "        </script>\n",
       "        "
      ]
     },
     "metadata": {},
     "output_type": "display_data"
    }
   ],
   "source": [
    "from google.cloud import bigquery\n",
    "from google.oauth2 import service_account\n",
    "import plotly.graph_objects as go\n",
    "import plotly.tools as tls\n",
    "\n",
    "from plotly.offline import plot, iplot, init_notebook_mode\n",
    "from IPython.core.display import display, HTML\n",
    "init_notebook_mode(connected = True)\n",
    "config={'showLink': False, 'displayModeBar': False}"
   ]
  },
  {
   "cell_type": "code",
   "execution_count": 2,
   "metadata": {
    "tags": [
     "hide_input"
    ]
   },
   "outputs": [],
   "source": [
    "credentials = service_account.Credentials.from_service_account_file(\n",
    "    'cred.json')\n",
    "project_id = 'intricate-yew-283611'\n",
    "client = bigquery.Client(credentials= credentials,project=project_id)"
   ]
  },
  {
   "cell_type": "code",
   "execution_count": 23,
   "metadata": {
    "tags": [
     "hide_input"
    ]
   },
   "outputs": [
    {
     "name": "stdout",
     "output_type": "stream",
     "text": [
      "Total number of Bitcoin addresses:  692643143\n"
     ]
    }
   ],
   "source": [
    "query_job = client.query(\"\"\"\n",
    "with cte as(SELECT  block_timestamp, ARRAY_TO_STRING(addresses, ',') as addresses\n",
    "FROM `bigquery-public-data.crypto_bitcoin.transactions`,UNNEST(outputs) as ins\n",
    " \n",
    "UNION ALL\n",
    "SELECT  block_timestamp, ARRAY_TO_STRING(addresses, ',') as addresses\n",
    "FROM `bigquery-public-data.crypto_bitcoin.transactions`,UNNEST(inputs) as ins)\n",
    "select count(distinct(addresses))\n",
    "from cte\n",
    " \n",
    " \"\"\")\n",
    "results = query_job.result()\n",
    "\n",
    "bitcoin_df = results.to_dataframe()\n",
    "print('Total number of Bitcoin addresses: ',bitcoin_df['f0_'][0])"
   ]
  },
  {
   "cell_type": "code",
   "execution_count": 24,
   "metadata": {
    "tags": [
     "hide_input"
    ]
   },
   "outputs": [
    {
     "name": "stdout",
     "output_type": "stream",
     "text": [
      "Total number of bitcoin cash addresses:  40360252\n"
     ]
    }
   ],
   "source": [
    "query_job = client.query(\"\"\"\n",
    "with cte as(SELECT  block_timestamp, ARRAY_TO_STRING(addresses, ',') as addresses\n",
    "FROM `bigquery-public-data.crypto_bitcoin_cash.transactions`,UNNEST(outputs) as ins\n",
    "WHERE Date(block_timestamp)> '2017-07-31'\n",
    "\n",
    "UNION ALL\n",
    "SELECT  block_timestamp, ARRAY_TO_STRING(addresses, ',') as addresses\n",
    "FROM `bigquery-public-data.crypto_bitcoin_cash.transactions`,UNNEST(inputs) as ins\n",
    "WHERE Date(block_timestamp)> '2017-07-31')\n",
    "select count(distinct(addresses))\n",
    "from cte\n",
    " \n",
    " \"\"\")\n",
    "results = query_job.result()\n",
    "\n",
    "bitcoin_df = results.to_dataframe()\n",
    "print('Total number of bitcoin cash addresses: ',bitcoin_df['f0_'][0])"
   ]
  },
  {
   "cell_type": "code",
   "execution_count": 25,
   "metadata": {
    "tags": [
     "hide_input"
    ]
   },
   "outputs": [
    {
     "name": "stdout",
     "output_type": "stream",
     "text": [
      "Total number of Litecoin addresses:  56462583\n"
     ]
    }
   ],
   "source": [
    "query_job = client.query(\"\"\"\n",
    "with cte as(SELECT  block_timestamp, ARRAY_TO_STRING(addresses, ',') as addresses\n",
    "FROM `bigquery-public-data.crypto_litecoin.transactions`,UNNEST(outputs) as ins\n",
    "UNION ALL\n",
    "SELECT  block_timestamp, ARRAY_TO_STRING(addresses, ',') as addresses\n",
    "FROM `bigquery-public-data.crypto_litecoin.transactions`,UNNEST(inputs) as ins)\n",
    "select count(distinct(addresses))\n",
    "from cte\n",
    " \n",
    " \"\"\")\n",
    "results = query_job.result()\n",
    "\n",
    "bitcoin_df = results.to_dataframe()\n",
    "print('Total number of Litecoin addresses: ',bitcoin_df['f0_'][0])"
   ]
  }
 ],
 "metadata": {
  "celltoolbar": "Edit Metadata",
  "kernelspec": {
   "display_name": "Python 3",
   "language": "python",
   "name": "python3"
  },
  "language_info": {
   "codemirror_mode": {
    "name": "ipython",
    "version": 3
   },
   "file_extension": ".py",
   "mimetype": "text/x-python",
   "name": "python",
   "nbconvert_exporter": "python",
   "pygments_lexer": "ipython3",
   "version": "3.7.3"
  }
 },
 "nbformat": 4,
 "nbformat_minor": 4
}
